{
 "cells": [
  {
   "cell_type": "code",
   "execution_count": 4,
   "metadata": {},
   "outputs": [],
   "source": [
    "from tensorflow.keras.preprocessing.text import Tokenizer\n",
    "from tensorflow.keras.preprocessing.sequence import pad_sequences"
   ]
  },
  {
   "cell_type": "code",
   "execution_count": 5,
   "metadata": {},
   "outputs": [
    {
     "name": "stdout",
     "output_type": "stream",
     "text": [
      "{'love': 2, 'think': 8, 'cat': 6, 'amazing': 10, 'dog': 3, 'my': 1, 'i': 4, 'do': 7, 'you': 5, 'is': 9}\n",
      "[[4, 2, 1, 3], [4, 2, 1, 6], [7, 5, 8, 1, 3, 9, 10], [5, 2, 1, 3]]\n"
     ]
    }
   ],
   "source": [
    "tokenizer = Tokenizer(num_words = 100)\n",
    "\n",
    "sentences = ['I love my dog','I love my cat','Do you think my dog is amazing!','You love my dog?']\n",
    "\n",
    "tokenizer.fit_on_texts(sentences)\n",
    "word_index = tokenizer.word_index\n",
    "\n",
    "sequences = tokenizer.texts_to_sequences(sentences)"
   ]
  },
  {
   "cell_type": "markdown",
   "metadata": {},
   "source": [
    "# Making all sentences to same length using padding"
   ]
  },
  {
   "cell_type": "code",
   "execution_count": 6,
   "metadata": {},
   "outputs": [],
   "source": [
    "#Pass sequences to pad_sequences\n",
    "\n",
    "padded = pad_sequences(sequences)"
   ]
  },
  {
   "cell_type": "markdown",
   "metadata": {},
   "source": [
    "#Matrix width is same as the longest sentence"
   ]
  },
  {
   "cell_type": "code",
   "execution_count": 8,
   "metadata": {},
   "outputs": [
    {
     "name": "stdout",
     "output_type": "stream",
     "text": [
      "{'love': 2, 'think': 8, 'cat': 6, 'amazing': 10, 'dog': 3, 'my': 1, 'i': 4, 'do': 7, 'you': 5, 'is': 9}\n",
      "[[4, 2, 1, 3], [4, 2, 1, 6], [7, 5, 8, 1, 3, 9, 10], [5, 2, 1, 3]]\n",
      "[[ 0  0  0  4  2  1  3]\n",
      " [ 0  0  0  4  2  1  6]\n",
      " [ 7  5  8  1  3  9 10]\n",
      " [ 0  0  0  5  2  1  3]]\n"
     ]
    }
   ],
   "source": [
    "print(word_index)\n",
    "print(sequences)\n",
    "print(padded)"
   ]
  },
  {
   "cell_type": "markdown",
   "metadata": {},
   "source": [
    "# To pad with zeroes after the sentenceMaking all sentences to same lengt"
   ]
  },
  {
   "cell_type": "code",
   "execution_count": 9,
   "metadata": {},
   "outputs": [
    {
     "data": {
      "text/plain": [
       "array([[ 4,  2,  1,  3,  0,  0,  0],\n",
       "       [ 4,  2,  1,  6,  0,  0,  0],\n",
       "       [ 7,  5,  8,  1,  3,  9, 10],\n",
       "       [ 5,  2,  1,  3,  0,  0,  0]], dtype=int32)"
      ]
     },
     "execution_count": 9,
     "metadata": {},
     "output_type": "execute_result"
    }
   ],
   "source": [
    "padded1 = pad_sequences(sequences, padding='post')\n",
    "padded1"
   ]
  },
  {
   "cell_type": "markdown",
   "metadata": {},
   "source": [
    "# Max length of sentence/matrix"
   ]
  },
  {
   "cell_type": "markdown",
   "metadata": {},
   "source": [
    "#We loose starting info. of the sentence"
   ]
  },
  {
   "cell_type": "code",
   "execution_count": 11,
   "metadata": {},
   "outputs": [
    {
     "data": {
      "text/plain": [
       "array([[ 4,  2,  1,  3,  0,  0],\n",
       "       [ 4,  2,  1,  6,  0,  0],\n",
       "       [ 5,  8,  1,  3,  9, 10],\n",
       "       [ 5,  2,  1,  3,  0,  0]], dtype=int32)"
      ]
     },
     "execution_count": 11,
     "metadata": {},
     "output_type": "execute_result"
    }
   ],
   "source": [
    "padded2 = pad_sequences(sequences, padding='post', maxlen=6)\n",
    "padded2"
   ]
  },
  {
   "cell_type": "markdown",
   "metadata": {},
   "source": [
    "# LOose INfo at the end of sentence"
   ]
  },
  {
   "cell_type": "code",
   "execution_count": 12,
   "metadata": {},
   "outputs": [
    {
     "data": {
      "text/plain": [
       "array([[4, 2, 1, 3, 0, 0],\n",
       "       [4, 2, 1, 6, 0, 0],\n",
       "       [7, 5, 8, 1, 3, 9],\n",
       "       [5, 2, 1, 3, 0, 0]], dtype=int32)"
      ]
     },
     "execution_count": 12,
     "metadata": {},
     "output_type": "execute_result"
    }
   ],
   "source": [
    "padded2 = pad_sequences(sequences, padding='post', maxlen=6, truncating='post')\n",
    "padded2"
   ]
  },
  {
   "cell_type": "code",
   "execution_count": null,
   "metadata": {},
   "outputs": [],
   "source": []
  }
 ],
 "metadata": {
  "kernelspec": {
   "display_name": "Python 3",
   "language": "python",
   "name": "python3"
  },
  "language_info": {
   "codemirror_mode": {
    "name": "ipython",
    "version": 3
   },
   "file_extension": ".py",
   "mimetype": "text/x-python",
   "name": "python",
   "nbconvert_exporter": "python",
   "pygments_lexer": "ipython3",
   "version": "3.5.2"
  }
 },
 "nbformat": 4,
 "nbformat_minor": 2
}
