{
 "cells": [
  {
   "cell_type": "code",
   "execution_count": 7,
   "metadata": {},
   "outputs": [
    {
     "name": "stdout",
     "output_type": "stream",
     "text": [
      "{'cat': 6, 'i': 4, 'you': 5, 'is': 9, 'amazing': 10, 'do': 7, 'dog': 3, 'my': 1, 'love': 2, 'think': 8}\n"
     ]
    }
   ],
   "source": [
    "from tensorflow.keras.preprocessing.text import Tokenizer\n",
    "tokenizer = Tokenizer(num_words = 100)\n",
    "sentences = ['I love my dog','I love my cat','Do you think my dog is amazing!','You love my dog?']\n",
    "\n",
    "tokenizer.fit_on_texts(sentences)\n",
    "word_index = tokenizer.word_index\n",
    "print(word_index)"
   ]
  },
  {
   "cell_type": "code",
   "execution_count": 8,
   "metadata": {},
   "outputs": [
    {
     "name": "stdout",
     "output_type": "stream",
     "text": [
      "[[4, 2, 1, 3], [4, 2, 1, 6], [7, 5, 8, 1, 3, 9, 10], [5, 2, 1, 3]]\n"
     ]
    }
   ],
   "source": [
    "#List of sentences into integer lists\n",
    "#Tokens replaced the words\n",
    "#texts_to_sentences cantake anyno.of sentences&encode them based on wordset that it learned when passed fit_on_texts\n",
    "sequences = tokenizer.texts_to_sequences(sentences)\n",
    "print(sequences)"
   ]
  },
  {
   "cell_type": "code",
   "execution_count": 9,
   "metadata": {},
   "outputs": [
    {
     "name": "stdout",
     "output_type": "stream",
     "text": [
      "[[4, 2, 1, 3], [1, 3, 1]]\n"
     ]
    }
   ],
   "source": [
    "test_data = ['i really love my dog','my dog loves my manate']\n",
    "test_seq = tokenizer.texts_to_sequences(test_data)\n",
    "print(test_seq)"
   ]
  },
  {
   "cell_type": "code",
   "execution_count": 10,
   "metadata": {},
   "outputs": [],
   "source": [
    "#tokenizer is not fitted on 'really','manate'\n",
    "#So, Tokenizer ignored unseen words"
   ]
  },
  {
   "cell_type": "code",
   "execution_count": null,
   "metadata": {},
   "outputs": [],
   "source": []
  },
  {
   "cell_type": "markdown",
   "metadata": {},
   "source": [
    "# oov - out of vocabulary, instead of ignoring unseen words it gives me <00v> token value at unseen word location"
   ]
  },
  {
   "cell_type": "code",
   "execution_count": 14,
   "metadata": {},
   "outputs": [
    {
     "name": "stdout",
     "output_type": "stream",
     "text": [
      "{'cat': 7, 'i': 5, 'you': 6, 'is': 10, 'amazing': 11, 'do': 8, 'dog': 4, 'my': 2, 'love': 3, '<OOV>': 1, 'think': 9}\n",
      "[[5, 3, 2, 4], [5, 3, 2, 7], [8, 6, 9, 2, 4, 10, 11], [6, 3, 2, 4]]\n"
     ]
    }
   ],
   "source": [
    "sentences = ['I love my dog','I love my cat','Do you think my dog is amazing!','You love my dog?']\n",
    "\n",
    "tokenizer1 = Tokenizer(num_words = 100,oov_token= \"<OOV>\")\n",
    "\n",
    "tokenizer1.fit_on_texts(sentences)\n",
    "word_index = tokenizer1.word_index\n",
    "print(word_index)\n",
    "\n",
    "sequences = tokenizer1.texts_to_sequences(sentences)\n",
    "print(sequences)"
   ]
  },
  {
   "cell_type": "code",
   "execution_count": 16,
   "metadata": {},
   "outputs": [
    {
     "name": "stdout",
     "output_type": "stream",
     "text": [
      "[[5, 1, 3, 2, 4], [2, 4, 1, 2, 1]]\n"
     ]
    }
   ],
   "source": [
    "#TOKENIZER1\n",
    "test_data = ['i really love my dog','my dog loves my manate']\n",
    "test_seq = tokenizer1.texts_to_sequences(test_data)\n",
    "print(test_seq)"
   ]
  },
  {
   "cell_type": "code",
   "execution_count": 17,
   "metadata": {},
   "outputs": [
    {
     "name": "stdout",
     "output_type": "stream",
     "text": [
      "[[4, 2, 1, 3], [1, 3, 1]]\n"
     ]
    }
   ],
   "source": [
    "#TOKENIZER\n",
    "test_data = ['i really love my dog','my dog loves my manate']\n",
    "test_seq = tokenizer.texts_to_sequences(test_data)\n",
    "print(test_seq)"
   ]
  },
  {
   "cell_type": "code",
   "execution_count": null,
   "metadata": {},
   "outputs": [],
   "source": []
  }
 ],
 "metadata": {
  "kernelspec": {
   "display_name": "Python 3",
   "language": "python",
   "name": "python3"
  },
  "language_info": {
   "codemirror_mode": {
    "name": "ipython",
    "version": 3
   },
   "file_extension": ".py",
   "mimetype": "text/x-python",
   "name": "python",
   "nbconvert_exporter": "python",
   "pygments_lexer": "ipython3",
   "version": "3.5.2"
  }
 },
 "nbformat": 4,
 "nbformat_minor": 2
}
